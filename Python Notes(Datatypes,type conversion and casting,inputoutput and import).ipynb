{
 "cells": [
  {
   "cell_type": "markdown",
   "metadata": {},
   "source": [
    "### Python  Datatypes"
   ]
  },
  {
   "cell_type": "markdown",
   "metadata": {},
   "source": [
    "##### Datatypes in python\n",
    "- Every value in Python has a datatype. Since everything is an object in Python programming, data types are actually classes and variables are instance (object) of these classes.\n",
    "- There are various data types in Python. Some of the important types are listed below."
   ]
  },
  {
   "cell_type": "markdown",
   "metadata": {},
   "source": [
    "##### Python Numbers\n",
    "- Integers, floating point numbers and complex numbers fall under Python numbers category.\n",
    "- They are defined as int, float and complex classes in Python.\n",
    "- We can use the type() function to know which class a variable or a value belongs to. Similarly, the isinstance() function is used to check if an object belongs to a particular class."
   ]
  },
  {
   "cell_type": "code",
   "execution_count": 2,
   "metadata": {},
   "outputs": [
    {
     "name": "stdout",
     "output_type": "stream",
     "text": [
      "5 is of type <class 'int'>\n",
      "2.0 is of type <class 'float'>\n",
      "(1+2j) is complex number? True\n"
     ]
    }
   ],
   "source": [
    "a = 5\n",
    "print(a, \"is of type\", type(a))\n",
    "\n",
    "a = 2.0\n",
    "print(a, \"is of type\", type(a))\n",
    "\n",
    "a = 1+2j\n",
    "print(a, \"is complex number?\", isinstance(1+2j,complex))"
   ]
  },
  {
   "cell_type": "markdown",
   "metadata": {},
   "source": [
    "- Integers can be of any length, it is only limited by the memory available.\n",
    "- A floating-point number is accurate up to 15 decimal places.Complex numbers are written in the form, x + yj, where x is the real part and y is the imaginary part. Here are some examples.\n",
    "- Complex numbers are written in the form, x + yj, where x is the real part and y is the imaginary part. Here are some examples."
   ]
  },
  {
   "cell_type": "code",
   "execution_count": 4,
   "metadata": {},
   "outputs": [
    {
     "name": "stdout",
     "output_type": "stream",
     "text": [
      "1234567890123456789\n",
      "0.12345678901234568\n",
      "(1+2j)\n"
     ]
    }
   ],
   "source": [
    "a = 1234567890123456789\n",
    "print(a)\n",
    "b = 0.1234567890123456789\n",
    "print(b)\n",
    "c = 1+2j\n",
    "print(c)"
   ]
  },
  {
   "cell_type": "markdown",
   "metadata": {},
   "source": [
    "- Notice that the float variable b got truncated."
   ]
  },
  {
   "cell_type": "markdown",
   "metadata": {},
   "source": [
    "##### Python List\n",
    "- List is an ordered sequence of items.\n",
    "- It is one of the most used datatype in Python and is very flexible.\n",
    "- All the items in a list do not need to be of the same type.\n",
    "- Declaring a list is pretty straight forward. Items separated by commas are enclosed within brackets [ ]."
   ]
  },
  {
   "cell_type": "code",
   "execution_count": 5,
   "metadata": {},
   "outputs": [
    {
     "data": {
      "text/plain": [
       "[1, 2.2, 'python']"
      ]
     },
     "execution_count": 5,
     "metadata": {},
     "output_type": "execute_result"
    }
   ],
   "source": [
    "a = [1, 2.2, 'python']\n",
    "a"
   ]
  },
  {
   "cell_type": "markdown",
   "metadata": {},
   "source": [
    "- We can use the slicing operator [ ] to extract an item or a range of items from a list. The index starts from 0 in Python."
   ]
  },
  {
   "cell_type": "code",
   "execution_count": 7,
   "metadata": {},
   "outputs": [
    {
     "name": "stdout",
     "output_type": "stream",
     "text": [
      "a[2] =  15\n",
      "a[0:3] =  [5, 10, 15]\n",
      "a[5:] =  [30, 35, 40, 60]\n"
     ]
    }
   ],
   "source": [
    "a = [5,10,15,20,25,30,35,40,60]\n",
    "\n",
    "# a[2] = 15\n",
    "print(\"a[2] = \", a[2])\n",
    "\n",
    "# a[0:3] = [5, 10, 15]\n",
    "print(\"a[0:3] = \", a[0:3])\n",
    "\n",
    "# a[5:] = [30, 35, 40]\n",
    "print(\"a[5:] = \", a[5:])"
   ]
  },
  {
   "cell_type": "markdown",
   "metadata": {},
   "source": [
    "- Lists are mutable, meaning the value of elements of a list can be altered."
   ]
  },
  {
   "cell_type": "markdown",
   "metadata": {},
   "source": [
    "##### Python Tuple\n",
    "- Tuple is an ordered sequence of items same as a list. The only difference is that tuples are immutable.\n",
    "- Tuples once created cannot be modified.\n",
    "- Tuples are used to write-protect data and are usually faster than lists as they cannot change dynamically.\n",
    "- It is defined within parentheses () where items are separated by commas."
   ]
  },
  {
   "cell_type": "code",
   "execution_count": 8,
   "metadata": {},
   "outputs": [
    {
     "data": {
      "text/plain": [
       "(5, 'program', (1+3j))"
      ]
     },
     "execution_count": 8,
     "metadata": {},
     "output_type": "execute_result"
    }
   ],
   "source": [
    "t = (5,'program', 1+3j)\n",
    "t"
   ]
  },
  {
   "cell_type": "markdown",
   "metadata": {},
   "source": [
    "- We can use the slicing operator [ ] to extract items but we cannot change its value."
   ]
  },
  {
   "cell_type": "code",
   "execution_count": 9,
   "metadata": {},
   "outputs": [
    {
     "name": "stdout",
     "output_type": "stream",
     "text": [
      "t[1] =  program\n",
      "t[0:3] =  (5, 'program', (1+3j))\n"
     ]
    },
    {
     "ename": "TypeError",
     "evalue": "'tuple' object does not support item assignment",
     "output_type": "error",
     "traceback": [
      "\u001b[1;31m---------------------------------------------------------------------------\u001b[0m",
      "\u001b[1;31mTypeError\u001b[0m                                 Traceback (most recent call last)",
      "\u001b[1;32m<ipython-input-9-4413355158bb>\u001b[0m in \u001b[0;36m<module>\u001b[1;34m\u001b[0m\n\u001b[0;32m      9\u001b[0m \u001b[1;31m# Generates error\u001b[0m\u001b[1;33m\u001b[0m\u001b[1;33m\u001b[0m\u001b[1;33m\u001b[0m\u001b[0m\n\u001b[0;32m     10\u001b[0m \u001b[1;31m# Tuples are immutable\u001b[0m\u001b[1;33m\u001b[0m\u001b[1;33m\u001b[0m\u001b[1;33m\u001b[0m\u001b[0m\n\u001b[1;32m---> 11\u001b[1;33m \u001b[0mt\u001b[0m\u001b[1;33m[\u001b[0m\u001b[1;36m0\u001b[0m\u001b[1;33m]\u001b[0m \u001b[1;33m=\u001b[0m \u001b[1;36m10\u001b[0m\u001b[1;33m\u001b[0m\u001b[1;33m\u001b[0m\u001b[0m\n\u001b[0m",
      "\u001b[1;31mTypeError\u001b[0m: 'tuple' object does not support item assignment"
     ]
    }
   ],
   "source": [
    "t = (5,'program', 1+3j)\n",
    "\n",
    "# t[1] = 'program'\n",
    "print(\"t[1] = \", t[1])\n",
    "\n",
    "# t[0:3] = (5, 'program', (1+3j))\n",
    "print(\"t[0:3] = \", t[0:3])\n",
    "\n",
    "# Generates error\n",
    "# Tuples are immutable\n",
    "t[0] = 10"
   ]
  },
  {
   "cell_type": "markdown",
   "metadata": {},
   "source": [
    "##### Python Strings\n",
    "- String is sequence of Unicode characters.\n",
    "- We can use single quotes or double quotes to represent strings.\n",
    "- Multi-line strings can be denoted using triple quotes, ''' or \"\"\"."
   ]
  },
  {
   "cell_type": "code",
   "execution_count": 11,
   "metadata": {},
   "outputs": [
    {
     "name": "stdout",
     "output_type": "stream",
     "text": [
      "This is a string\n",
      "A multiline\n",
      "string\n"
     ]
    }
   ],
   "source": [
    "s = \"This is a string\"\n",
    "print(s)\n",
    "s = '''A multiline\n",
    "string'''\n",
    "print(s)"
   ]
  },
  {
   "cell_type": "markdown",
   "metadata": {},
   "source": [
    " - Just like a list and tuple, the slicing operator [ ] can be used with strings. Strings, however, are immutable."
   ]
  },
  {
   "cell_type": "code",
   "execution_count": 12,
   "metadata": {},
   "outputs": [
    {
     "name": "stdout",
     "output_type": "stream",
     "text": [
      "s[4] =  o\n",
      "s[6:11] =  world\n"
     ]
    },
    {
     "ename": "TypeError",
     "evalue": "'str' object does not support item assignment",
     "output_type": "error",
     "traceback": [
      "\u001b[1;31m---------------------------------------------------------------------------\u001b[0m",
      "\u001b[1;31mTypeError\u001b[0m                                 Traceback (most recent call last)",
      "\u001b[1;32m<ipython-input-12-430a1bc5a714>\u001b[0m in \u001b[0;36m<module>\u001b[1;34m\u001b[0m\n\u001b[0;32m      9\u001b[0m \u001b[1;31m# Generates error\u001b[0m\u001b[1;33m\u001b[0m\u001b[1;33m\u001b[0m\u001b[1;33m\u001b[0m\u001b[0m\n\u001b[0;32m     10\u001b[0m \u001b[1;31m# Strings are immutable in Python\u001b[0m\u001b[1;33m\u001b[0m\u001b[1;33m\u001b[0m\u001b[1;33m\u001b[0m\u001b[0m\n\u001b[1;32m---> 11\u001b[1;33m \u001b[0ms\u001b[0m\u001b[1;33m[\u001b[0m\u001b[1;36m5\u001b[0m\u001b[1;33m]\u001b[0m \u001b[1;33m=\u001b[0m\u001b[1;34m'd'\u001b[0m\u001b[1;33m\u001b[0m\u001b[1;33m\u001b[0m\u001b[0m\n\u001b[0m",
      "\u001b[1;31mTypeError\u001b[0m: 'str' object does not support item assignment"
     ]
    }
   ],
   "source": [
    "s = 'Hello world!'\n",
    "\n",
    "# s[4] = 'o'\n",
    "print(\"s[4] = \", s[4])\n",
    "\n",
    "# s[6:11] = 'world'\n",
    "print(\"s[6:11] = \", s[6:11])\n",
    "\n",
    "# Generates error\n",
    "# Strings are immutable in Python\n",
    "s[5] ='d'"
   ]
  },
  {
   "cell_type": "markdown",
   "metadata": {},
   "source": [
    "##### Python Set\n",
    "- Set is an unordered collection of unique items.\n",
    "- Set is defined by values separated by comma inside braces { }.\n",
    "- Items in a set are not ordered."
   ]
  },
  {
   "cell_type": "code",
   "execution_count": 13,
   "metadata": {},
   "outputs": [
    {
     "name": "stdout",
     "output_type": "stream",
     "text": [
      "a =  {1, 2, 3, 4, 5}\n",
      "<class 'set'>\n"
     ]
    }
   ],
   "source": [
    "a = {5,2,3,1,4}\n",
    "\n",
    "# printing set variable\n",
    "print(\"a = \", a)\n",
    "\n",
    "# data type of variable a\n",
    "print(type(a))"
   ]
  },
  {
   "cell_type": "markdown",
   "metadata": {},
   "source": [
    "- We can perform set operations like union, intersection on two sets. Sets have unique values. They eliminate duplicates."
   ]
  },
  {
   "cell_type": "code",
   "execution_count": 14,
   "metadata": {},
   "outputs": [
    {
     "name": "stdout",
     "output_type": "stream",
     "text": [
      "{1, 2, 3}\n"
     ]
    }
   ],
   "source": [
    "a = {1,2,2,3,3,3}\n",
    "print(a)"
   ]
  },
  {
   "cell_type": "markdown",
   "metadata": {},
   "source": [
    "- Since, set are unordered collection, indexing has no meaning. Hence, the slicing operator [ ] does not work."
   ]
  },
  {
   "cell_type": "code",
   "execution_count": 15,
   "metadata": {},
   "outputs": [
    {
     "ename": "TypeError",
     "evalue": "'set' object is not subscriptable",
     "output_type": "error",
     "traceback": [
      "\u001b[1;31m---------------------------------------------------------------------------\u001b[0m",
      "\u001b[1;31mTypeError\u001b[0m                                 Traceback (most recent call last)",
      "\u001b[1;32m<ipython-input-15-dcc17a4df178>\u001b[0m in \u001b[0;36m<module>\u001b[1;34m\u001b[0m\n\u001b[0;32m      1\u001b[0m \u001b[0ma\u001b[0m \u001b[1;33m=\u001b[0m \u001b[1;33m{\u001b[0m\u001b[1;36m1\u001b[0m\u001b[1;33m,\u001b[0m\u001b[1;36m2\u001b[0m\u001b[1;33m,\u001b[0m\u001b[1;36m3\u001b[0m\u001b[1;33m}\u001b[0m\u001b[1;33m\u001b[0m\u001b[1;33m\u001b[0m\u001b[0m\n\u001b[1;32m----> 2\u001b[1;33m \u001b[0ma\u001b[0m\u001b[1;33m[\u001b[0m\u001b[1;36m1\u001b[0m\u001b[1;33m]\u001b[0m\u001b[1;33m\u001b[0m\u001b[1;33m\u001b[0m\u001b[0m\n\u001b[0m",
      "\u001b[1;31mTypeError\u001b[0m: 'set' object is not subscriptable"
     ]
    }
   ],
   "source": [
    "a = {1,2,3}\n",
    "a[1]"
   ]
  },
  {
   "cell_type": "markdown",
   "metadata": {},
   "source": [
    "##### Python Dictionary\n",
    "- Dictionary is an unordered collection of key-value pairs.\n",
    "- It is generally used when we have a huge amount of data.\n",
    "- Dictionaries are optimized for retrieving data. We must know the key to retrieve the value.\n",
    "- In Python, dictionaries are defined within braces { } with each item being a pair in the form key:value. Key and value can be of any type."
   ]
  },
  {
   "cell_type": "code",
   "execution_count": 16,
   "metadata": {},
   "outputs": [
    {
     "data": {
      "text/plain": [
       "dict"
      ]
     },
     "execution_count": 16,
     "metadata": {},
     "output_type": "execute_result"
    }
   ],
   "source": [
    "d = {1:'value','key':2}\n",
    "type(d)"
   ]
  },
  {
   "cell_type": "markdown",
   "metadata": {},
   "source": [
    "- We use key to retrieve the respective value. But not the other way around."
   ]
  },
  {
   "cell_type": "code",
   "execution_count": 17,
   "metadata": {},
   "outputs": [
    {
     "name": "stdout",
     "output_type": "stream",
     "text": [
      "<class 'dict'>\n",
      "d[1] =  value\n",
      "d['key'] =  2\n"
     ]
    },
    {
     "ename": "KeyError",
     "evalue": "2",
     "output_type": "error",
     "traceback": [
      "\u001b[1;31m---------------------------------------------------------------------------\u001b[0m",
      "\u001b[1;31mKeyError\u001b[0m                                  Traceback (most recent call last)",
      "\u001b[1;32m<ipython-input-17-cddbc2cc8d88>\u001b[0m in \u001b[0;36m<module>\u001b[1;34m\u001b[0m\n\u001b[0;32m      7\u001b[0m \u001b[1;33m\u001b[0m\u001b[0m\n\u001b[0;32m      8\u001b[0m \u001b[1;31m# Generates error\u001b[0m\u001b[1;33m\u001b[0m\u001b[1;33m\u001b[0m\u001b[1;33m\u001b[0m\u001b[0m\n\u001b[1;32m----> 9\u001b[1;33m \u001b[0mprint\u001b[0m\u001b[1;33m(\u001b[0m\u001b[1;34m\"d[2] = \"\u001b[0m\u001b[1;33m,\u001b[0m \u001b[0md\u001b[0m\u001b[1;33m[\u001b[0m\u001b[1;36m2\u001b[0m\u001b[1;33m]\u001b[0m\u001b[1;33m)\u001b[0m\u001b[1;33m\u001b[0m\u001b[1;33m\u001b[0m\u001b[0m\n\u001b[0m",
      "\u001b[1;31mKeyError\u001b[0m: 2"
     ]
    }
   ],
   "source": [
    "d = {1:'value','key':2}\n",
    "print(type(d))\n",
    "\n",
    "print(\"d[1] = \", d[1])\n",
    "\n",
    "print(\"d['key'] = \", d['key'])\n",
    "\n",
    "# Generates error\n",
    "print(\"d[2] = \", d[2])"
   ]
  },
  {
   "cell_type": "markdown",
   "metadata": {},
   "source": [
    "### Python Type Conversion and Type Casting"
   ]
  },
  {
   "cell_type": "markdown",
   "metadata": {},
   "source": [
    "##### Type Conversion\n",
    "- The process of converting the value of one data type (integer, string, float, etc.) to another data type is called type conversion.\n",
    "- Python has two types of type conversion.\n",
    "1. Implicit Type Conversion\n",
    "2. Explicit Type Conversion"
   ]
  },
  {
   "cell_type": "markdown",
   "metadata": {},
   "source": [
    "#### Implicit Type Conversion\n",
    "- In Implicit type conversion, Python automatically converts one data type to another data type. This process doesn't need any user involvement.\n",
    "- Let's see an example where Python promotes the conversion of the lower data type (integer) to the higher data type (float) to avoid data loss."
   ]
  },
  {
   "cell_type": "markdown",
   "metadata": {},
   "source": [
    "#### Example 1: Converting integer to float"
   ]
  },
  {
   "cell_type": "code",
   "execution_count": 1,
   "metadata": {},
   "outputs": [
    {
     "name": "stdout",
     "output_type": "stream",
     "text": [
      "datatype of num_int: <class 'int'>\n",
      "datatype of num_flo: <class 'float'>\n",
      "Value of num_new: 124.23\n",
      "datatype of num_new: <class 'float'>\n"
     ]
    }
   ],
   "source": [
    "num_int = 123\n",
    "num_flo = 1.23\n",
    "\n",
    "num_new = num_int + num_flo\n",
    "\n",
    "print(\"datatype of num_int:\",type(num_int))\n",
    "print(\"datatype of num_flo:\",type(num_flo))\n",
    "\n",
    "print(\"Value of num_new:\",num_new)\n",
    "print(\"datatype of num_new:\",type(num_new))"
   ]
  },
  {
   "cell_type": "markdown",
   "metadata": {},
   "source": [
    "In the above program,\n",
    "\n",
    "- We add two variables num_int and num_flo, storing the value in num_new.\n",
    "- We will look at the data type of all three objects respectively.\n",
    "- In the output, we can see the data type of num_int is an integer while the data type of num_flo is a float.\n",
    "- Also, we can see the num_new has a float data type because Python always converts smaller data types to larger data types to avoid the loss of data."
   ]
  },
  {
   "cell_type": "markdown",
   "metadata": {},
   "source": [
    "#### Example : Addition of string(higher) data type and integer(lower) datatype"
   ]
  },
  {
   "cell_type": "code",
   "execution_count": 2,
   "metadata": {},
   "outputs": [
    {
     "name": "stdout",
     "output_type": "stream",
     "text": [
      "Data type of num_int: <class 'int'>\n",
      "Data type of num_str: <class 'str'>\n"
     ]
    },
    {
     "ename": "TypeError",
     "evalue": "unsupported operand type(s) for +: 'int' and 'str'",
     "output_type": "error",
     "traceback": [
      "\u001b[1;31m---------------------------------------------------------------------------\u001b[0m",
      "\u001b[1;31mTypeError\u001b[0m                                 Traceback (most recent call last)",
      "\u001b[1;32m<ipython-input-2-6e3c0f0ba491>\u001b[0m in \u001b[0;36m<module>\u001b[1;34m\u001b[0m\n\u001b[0;32m      5\u001b[0m \u001b[0mprint\u001b[0m\u001b[1;33m(\u001b[0m\u001b[1;34m\"Data type of num_str:\"\u001b[0m\u001b[1;33m,\u001b[0m\u001b[0mtype\u001b[0m\u001b[1;33m(\u001b[0m\u001b[0mnum_str\u001b[0m\u001b[1;33m)\u001b[0m\u001b[1;33m)\u001b[0m\u001b[1;33m\u001b[0m\u001b[1;33m\u001b[0m\u001b[0m\n\u001b[0;32m      6\u001b[0m \u001b[1;33m\u001b[0m\u001b[0m\n\u001b[1;32m----> 7\u001b[1;33m \u001b[0mprint\u001b[0m\u001b[1;33m(\u001b[0m\u001b[0mnum_int\u001b[0m\u001b[1;33m+\u001b[0m\u001b[0mnum_str\u001b[0m\u001b[1;33m)\u001b[0m\u001b[1;33m\u001b[0m\u001b[1;33m\u001b[0m\u001b[0m\n\u001b[0m",
      "\u001b[1;31mTypeError\u001b[0m: unsupported operand type(s) for +: 'int' and 'str'"
     ]
    }
   ],
   "source": [
    "num_int = 123\n",
    "num_str = \"456\"\n",
    "\n",
    "print(\"Data type of num_int:\",type(num_int))\n",
    "print(\"Data type of num_str:\",type(num_str))\n",
    "\n",
    "print(num_int+num_str)"
   ]
  },
  {
   "cell_type": "markdown",
   "metadata": {},
   "source": [
    "In the above program,\n",
    "\n",
    "- We add two variables num_int and num_str.\n",
    "- As we can see from the output, we got TypeError. Python is not able to use Implicit Conversion in such conditions.\n",
    "- However, Python has a solution for these types of situations which is known as Explicit Conversion."
   ]
  },
  {
   "cell_type": "markdown",
   "metadata": {},
   "source": [
    "#### Explicit Type Conversion"
   ]
  },
  {
   "cell_type": "markdown",
   "metadata": {},
   "source": [
    "- In Explicit Type Conversion, users convert the data type of an object to required data type. We use the predefined functions like int(), float(), str(), etc to perform explicit type conversion.\n",
    "\n",
    "- This type of conversion is also called typecasting because the user casts (changes) the data type of the objects.\n",
    "- Typecasting can be done by assigning the required data type function to the expression.\n"
   ]
  },
  {
   "cell_type": "markdown",
   "metadata": {},
   "source": [
    "#### Example : Addition of string and integer using explicit conversion"
   ]
  },
  {
   "cell_type": "code",
   "execution_count": 3,
   "metadata": {},
   "outputs": [
    {
     "name": "stdout",
     "output_type": "stream",
     "text": [
      "Data type of num_int: <class 'int'>\n",
      "Data type of num_str before Type Casting: <class 'str'>\n",
      "Data type of num_str after Type Casting: <class 'int'>\n",
      "Sum of num_int and num_str: 579\n",
      "Data type of the sum: <class 'int'>\n"
     ]
    }
   ],
   "source": [
    "num_int = 123\n",
    "num_str = \"456\"\n",
    "\n",
    "print(\"Data type of num_int:\",type(num_int))\n",
    "print(\"Data type of num_str before Type Casting:\",type(num_str))\n",
    "\n",
    "num_str = int(num_str)\n",
    "print(\"Data type of num_str after Type Casting:\",type(num_str))\n",
    "\n",
    "num_sum = num_int + num_str\n",
    "\n",
    "print(\"Sum of num_int and num_str:\",num_sum)\n",
    "print(\"Data type of the sum:\",type(num_sum))"
   ]
  },
  {
   "cell_type": "markdown",
   "metadata": {},
   "source": [
    "In the above program,\n",
    "\n",
    "- We add num_str and num_int variable.\n",
    "- We converted num_str from string(higher) to integer(lower) type using int() function to perform the addition.\n",
    "- After converting num_str to an integer value, Python is able to add these two variables.\n",
    "- We got the num_sum value and data type to be an integer.\n"
   ]
  },
  {
   "cell_type": "markdown",
   "metadata": {},
   "source": [
    "Key Points to Remember\n",
    "- Type Conversion is the conversion of object from one data type to another data type.\n",
    "- Implicit Type Conversion is automatically performed by the Python interpreter.\n",
    "- Python avoids the loss of data in Implicit Type Conversion.\n",
    "- Explicit Type Conversion is also called Type Casting, the data types of objects are converted using predefined functions by the user.\n",
    "- In Type Casting, loss of data may occur as we enforce the object to a specific data type."
   ]
  },
  {
   "cell_type": "markdown",
   "metadata": {},
   "source": [
    "### Python Input, Output and Import"
   ]
  },
  {
   "cell_type": "markdown",
   "metadata": {},
   "source": [
    "#### Python Input\n",
    "- Up until now, our programs were static. The value of variables was defined or hard coded into the source code.\n",
    "\n",
    "- To allow flexibility, we might want to take the input from the user. In Python, we have the input() function to allow this. The syntax for input() is:\n",
    "\n",
    "syntax: input([prompt])\n",
    "\n",
    "- where prompt is the string we wish to display on the screen. It is optional."
   ]
  },
  {
   "cell_type": "code",
   "execution_count": 4,
   "metadata": {},
   "outputs": [
    {
     "name": "stdout",
     "output_type": "stream",
     "text": [
      "Enter a number: 10\n"
     ]
    }
   ],
   "source": [
    "num = input('Enter a number: ')"
   ]
  },
  {
   "cell_type": "code",
   "execution_count": 5,
   "metadata": {},
   "outputs": [
    {
     "data": {
      "text/plain": [
       "'10'"
      ]
     },
     "execution_count": 5,
     "metadata": {},
     "output_type": "execute_result"
    }
   ],
   "source": [
    "num"
   ]
  },
  {
   "cell_type": "markdown",
   "metadata": {},
   "source": [
    "- Here, we can see that the entered value 10 is a string, not a number. To convert this into a number we can use int() or float() functions."
   ]
  },
  {
   "cell_type": "code",
   "execution_count": 6,
   "metadata": {},
   "outputs": [
    {
     "data": {
      "text/plain": [
       "10"
      ]
     },
     "execution_count": 6,
     "metadata": {},
     "output_type": "execute_result"
    }
   ],
   "source": [
    "int('10')\n"
   ]
  },
  {
   "cell_type": "code",
   "execution_count": 7,
   "metadata": {},
   "outputs": [
    {
     "data": {
      "text/plain": [
       "10.0"
      ]
     },
     "execution_count": 7,
     "metadata": {},
     "output_type": "execute_result"
    }
   ],
   "source": [
    "float('10')"
   ]
  },
  {
   "cell_type": "markdown",
   "metadata": {},
   "source": [
    "- This same operation can be performed using the eval() function. But eval takes it further. It can evaluate even expressions, provided the input is a string"
   ]
  },
  {
   "cell_type": "code",
   "execution_count": 8,
   "metadata": {},
   "outputs": [
    {
     "ename": "ValueError",
     "evalue": "invalid literal for int() with base 10: '2+3'",
     "output_type": "error",
     "traceback": [
      "\u001b[1;31m---------------------------------------------------------------------------\u001b[0m",
      "\u001b[1;31mValueError\u001b[0m                                Traceback (most recent call last)",
      "\u001b[1;32m<ipython-input-8-7dc57dc68b93>\u001b[0m in \u001b[0;36m<module>\u001b[1;34m\u001b[0m\n\u001b[1;32m----> 1\u001b[1;33m \u001b[0mint\u001b[0m\u001b[1;33m(\u001b[0m\u001b[1;34m'2+3'\u001b[0m\u001b[1;33m)\u001b[0m\u001b[1;33m\u001b[0m\u001b[1;33m\u001b[0m\u001b[0m\n\u001b[0m",
      "\u001b[1;31mValueError\u001b[0m: invalid literal for int() with base 10: '2+3'"
     ]
    }
   ],
   "source": [
    "int('2+3')"
   ]
  },
  {
   "cell_type": "code",
   "execution_count": 9,
   "metadata": {},
   "outputs": [
    {
     "data": {
      "text/plain": [
       "5"
      ]
     },
     "execution_count": 9,
     "metadata": {},
     "output_type": "execute_result"
    }
   ],
   "source": [
    "eval('2+3')"
   ]
  },
  {
   "cell_type": "markdown",
   "metadata": {},
   "source": [
    "#### Python Output Using print() function\n",
    "- We use the print() function to output data to the standard output device (screen).\n",
    "- An example of its use is given below."
   ]
  },
  {
   "cell_type": "code",
   "execution_count": 10,
   "metadata": {},
   "outputs": [
    {
     "name": "stdout",
     "output_type": "stream",
     "text": [
      "This sentence is output to the screen\n"
     ]
    }
   ],
   "source": [
    "print('This sentence is output to the screen')"
   ]
  },
  {
   "cell_type": "code",
   "execution_count": 11,
   "metadata": {},
   "outputs": [
    {
     "name": "stdout",
     "output_type": "stream",
     "text": [
      "The value of a is 5\n"
     ]
    }
   ],
   "source": [
    "a = 5\n",
    "print('The value of a is', a)"
   ]
  },
  {
   "cell_type": "markdown",
   "metadata": {},
   "source": [
    "- In the second print() statement, we can notice that space was added between the string and the value of variable a. This is by default, but we can change it.\n",
    "\n",
    "- The actual syntax of the print() function is:<br>\n",
    "print(*objects, sep=' ', end='\\n', file=sys.stdout, flush=False)\n",
    "\n",
    "- Here, objects is the value(s) to be printed.\n",
    "\n",
    "- The sep separator is used between the values. It defaults into a space character.\n",
    "\n",
    "- After all values are printed, end is printed. It defaults into a new line.\n",
    "\n",
    "- The file is the object where the values are printed and its default value is sys.stdout (screen). Here is an example to illustrate this.\n"
   ]
  },
  {
   "cell_type": "code",
   "execution_count": 12,
   "metadata": {},
   "outputs": [
    {
     "name": "stdout",
     "output_type": "stream",
     "text": [
      "1 2 3 4\n",
      "1*2*3*4\n",
      "1#2#3#4&"
     ]
    }
   ],
   "source": [
    "print(1, 2, 3, 4)\n",
    "print(1, 2, 3, 4, sep='*')\n",
    "print(1, 2, 3, 4, sep='#', end='&')"
   ]
  },
  {
   "cell_type": "markdown",
   "metadata": {},
   "source": [
    "#### Output formatting\n",
    "- Sometimes we would like to format our output to make it look attractive. This can be done by using the str.format() method. This method is visible to any string object."
   ]
  },
  {
   "cell_type": "code",
   "execution_count": 13,
   "metadata": {},
   "outputs": [
    {
     "name": "stdout",
     "output_type": "stream",
     "text": [
      "The value of x is 5 and y is 10\n"
     ]
    }
   ],
   "source": [
    "x = 5; y = 10\n",
    "print('The value of x is {} and y is {}'.format(x,y))"
   ]
  },
  {
   "cell_type": "markdown",
   "metadata": {},
   "source": [
    "- Here, the curly braces {} are used as placeholders. We can specify the order in which they are printed by using numbers (tuple index)."
   ]
  },
  {
   "cell_type": "code",
   "execution_count": 14,
   "metadata": {},
   "outputs": [
    {
     "name": "stdout",
     "output_type": "stream",
     "text": [
      "I love bread and butter\n",
      "I love butter and bread\n"
     ]
    }
   ],
   "source": [
    "print('I love {0} and {1}'.format('bread','butter'))\n",
    "print('I love {1} and {0}'.format('bread','butter'))"
   ]
  },
  {
   "cell_type": "markdown",
   "metadata": {},
   "source": [
    "- We can even use keyword arguments to format the string."
   ]
  },
  {
   "cell_type": "code",
   "execution_count": 15,
   "metadata": {},
   "outputs": [
    {
     "name": "stdout",
     "output_type": "stream",
     "text": [
      "Hello John, Goodmorning\n"
     ]
    }
   ],
   "source": [
    "print('Hello {name}, {greeting}'.format(greeting = 'Goodmorning', name = 'John'))"
   ]
  },
  {
   "cell_type": "markdown",
   "metadata": {},
   "source": [
    "- We can also format strings like the old sprintf() style used in C programming language. We use the % operator to accomplish this."
   ]
  },
  {
   "cell_type": "code",
   "execution_count": 16,
   "metadata": {},
   "outputs": [
    {
     "name": "stdout",
     "output_type": "stream",
     "text": [
      "The value of x is 12.35\n"
     ]
    }
   ],
   "source": [
    "x = 12.3456789\n",
    "print('The value of x is %3.2f' %x)"
   ]
  },
  {
   "cell_type": "code",
   "execution_count": 17,
   "metadata": {},
   "outputs": [
    {
     "name": "stdout",
     "output_type": "stream",
     "text": [
      "The value of x is 12.3457\n"
     ]
    }
   ],
   "source": [
    "print('The value of x is %3.4f' %x)"
   ]
  },
  {
   "cell_type": "markdown",
   "metadata": {},
   "source": [
    "##### Python Import\n",
    "- When our program grows bigger, it is a good idea to break it into different modules.\n",
    "\n",
    "- A module is a file containing Python definitions and statements. Python modules have a filename and end with the extension .py.\n",
    "\n",
    "- Definitions inside a module can be imported to another module or the interactive interpreter in Python. We use the import keyword to do this.\n",
    "\n",
    "- For example, we can import the math module by typing the following line:"
   ]
  },
  {
   "cell_type": "code",
   "execution_count": 18,
   "metadata": {},
   "outputs": [],
   "source": [
    "import math"
   ]
  },
  {
   "cell_type": "code",
   "execution_count": 19,
   "metadata": {},
   "outputs": [
    {
     "name": "stdout",
     "output_type": "stream",
     "text": [
      "3.141592653589793\n"
     ]
    }
   ],
   "source": [
    "import math\n",
    "print(math.pi)"
   ]
  },
  {
   "cell_type": "markdown",
   "metadata": {},
   "source": [
    "- Now all the definitions inside math module are available in our scope. We can also import some specific attributes and functions only, using the from keyword. For example:"
   ]
  },
  {
   "cell_type": "code",
   "execution_count": 20,
   "metadata": {},
   "outputs": [],
   "source": [
    "from math import pi"
   ]
  },
  {
   "cell_type": "code",
   "execution_count": 21,
   "metadata": {},
   "outputs": [
    {
     "data": {
      "text/plain": [
       "3.141592653589793"
      ]
     },
     "execution_count": 21,
     "metadata": {},
     "output_type": "execute_result"
    }
   ],
   "source": [
    "pi"
   ]
  },
  {
   "cell_type": "markdown",
   "metadata": {},
   "source": [
    "- While importing a module, Python looks at several places defined in sys.path. It is a list of directory locations."
   ]
  },
  {
   "cell_type": "code",
   "execution_count": 22,
   "metadata": {},
   "outputs": [],
   "source": [
    "import sys"
   ]
  },
  {
   "cell_type": "code",
   "execution_count": 23,
   "metadata": {},
   "outputs": [
    {
     "data": {
      "text/plain": [
       "['C:\\\\Users\\\\Admin\\\\Downloads',\n",
       " 'C:\\\\Users\\\\Admin\\\\anaconda3\\\\python38.zip',\n",
       " 'C:\\\\Users\\\\Admin\\\\anaconda3\\\\DLLs',\n",
       " 'C:\\\\Users\\\\Admin\\\\anaconda3\\\\lib',\n",
       " 'C:\\\\Users\\\\Admin\\\\anaconda3',\n",
       " '',\n",
       " 'C:\\\\Users\\\\Admin\\\\anaconda3\\\\lib\\\\site-packages',\n",
       " 'C:\\\\Users\\\\Admin\\\\anaconda3\\\\lib\\\\site-packages\\\\win32',\n",
       " 'C:\\\\Users\\\\Admin\\\\anaconda3\\\\lib\\\\site-packages\\\\win32\\\\lib',\n",
       " 'C:\\\\Users\\\\Admin\\\\anaconda3\\\\lib\\\\site-packages\\\\Pythonwin',\n",
       " 'C:\\\\Users\\\\Admin\\\\anaconda3\\\\lib\\\\site-packages\\\\IPython\\\\extensions',\n",
       " 'C:\\\\Users\\\\Admin\\\\.ipython']"
      ]
     },
     "execution_count": 23,
     "metadata": {},
     "output_type": "execute_result"
    }
   ],
   "source": [
    "sys.path"
   ]
  }
 ],
 "metadata": {
  "kernelspec": {
   "display_name": "Python 3",
   "language": "python",
   "name": "python3"
  },
  "language_info": {
   "codemirror_mode": {
    "name": "ipython",
    "version": 3
   },
   "file_extension": ".py",
   "mimetype": "text/x-python",
   "name": "python",
   "nbconvert_exporter": "python",
   "pygments_lexer": "ipython3",
   "version": "3.8.5"
  }
 },
 "nbformat": 4,
 "nbformat_minor": 4
}
